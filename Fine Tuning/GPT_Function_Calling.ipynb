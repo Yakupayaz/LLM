{
  "nbformat": 4,
  "nbformat_minor": 0,
  "metadata": {
    "colab": {
      "provenance": []
    },
    "kernelspec": {
      "name": "python3",
      "display_name": "Python 3"
    },
    "language_info": {
      "name": "python"
    }
  },
  "cells": [
    {
      "cell_type": "markdown",
      "source": [
        "## Function Calling"
      ],
      "metadata": {
        "id": "KuMB5xs8loWo"
      }
    },
    {
      "cell_type": "markdown",
      "source": [
        "GPT 3.5 ve 4 modelleri, Haziran-Eylül 2021 ile Aralık 2023 ve öncesinden gelen verilerle eğitildiği için maalesef, bu modeller Haziran-Eylül 2021 veya Aralık 2023'den sonra ortaya çıkan ya da keşfedilen bilgileri bilemezler. Ayrıca, karmaşık matematik problemlerini çözmek için yetersizdirler. Bu durumda, modellerimiz, tanımadıkları veya zayıf oldukları konularda daha tutarlı ve doğru sonuçlar döndürebilmek için model için tanımladığımız fonksiyonu çağırarak kullanılabilir.\n",
        "\n",
        "Örneğin, vücut kitle indeksi hesaplaması Nisan 2023'den sonra keşfedilmiş olsun veya modeller vücut kitle indeksini hesaplama konusunda çok kötü olsun. Modelin vücut kitle indeksini doğru bir şekilde hesaplaması için aşağıda bir fonksiyon oluşturalım ve sonra bu fonksiyonu GPT modellerinde nasıl çağırdığımıza bakalım.\n",
        "\n",
        "Ayrıca bir text'den istediğimiz verileri çekmek içinde Function calling çok kullanışlıdır. Langchain dersinde örneğini göreceğiz.\n",
        "\n",
        "\n",
        "\n",
        "\n"
      ],
      "metadata": {
        "id": "hAHFT4NNusOH"
      }
    },
    {
      "cell_type": "code",
      "source": [
        "!pip install --upgrade openai"
      ],
      "metadata": {
        "colab": {
          "base_uri": "https://localhost:8080/"
        },
        "id": "WduIsM2MmESY",
        "outputId": "94470419-f9f9-4e02-e2cf-376d0e6848ba"
      },
      "execution_count": 1,
      "outputs": [
        {
          "output_type": "stream",
          "name": "stdout",
          "text": [
            "Collecting openai\n",
            "  Downloading openai-1.44.1-py3-none-any.whl.metadata (22 kB)\n",
            "Requirement already satisfied: anyio<5,>=3.5.0 in /usr/local/lib/python3.10/dist-packages (from openai) (3.7.1)\n",
            "Requirement already satisfied: distro<2,>=1.7.0 in /usr/lib/python3/dist-packages (from openai) (1.7.0)\n",
            "Collecting httpx<1,>=0.23.0 (from openai)\n",
            "  Downloading httpx-0.27.2-py3-none-any.whl.metadata (7.1 kB)\n",
            "Collecting jiter<1,>=0.4.0 (from openai)\n",
            "  Downloading jiter-0.5.0-cp310-cp310-manylinux_2_17_x86_64.manylinux2014_x86_64.whl.metadata (3.6 kB)\n",
            "Requirement already satisfied: pydantic<3,>=1.9.0 in /usr/local/lib/python3.10/dist-packages (from openai) (2.8.2)\n",
            "Requirement already satisfied: sniffio in /usr/local/lib/python3.10/dist-packages (from openai) (1.3.1)\n",
            "Requirement already satisfied: tqdm>4 in /usr/local/lib/python3.10/dist-packages (from openai) (4.66.5)\n",
            "Requirement already satisfied: typing-extensions<5,>=4.11 in /usr/local/lib/python3.10/dist-packages (from openai) (4.12.2)\n",
            "Requirement already satisfied: idna>=2.8 in /usr/local/lib/python3.10/dist-packages (from anyio<5,>=3.5.0->openai) (3.8)\n",
            "Requirement already satisfied: exceptiongroup in /usr/local/lib/python3.10/dist-packages (from anyio<5,>=3.5.0->openai) (1.2.2)\n",
            "Requirement already satisfied: certifi in /usr/local/lib/python3.10/dist-packages (from httpx<1,>=0.23.0->openai) (2024.8.30)\n",
            "Collecting httpcore==1.* (from httpx<1,>=0.23.0->openai)\n",
            "  Downloading httpcore-1.0.5-py3-none-any.whl.metadata (20 kB)\n",
            "Collecting h11<0.15,>=0.13 (from httpcore==1.*->httpx<1,>=0.23.0->openai)\n",
            "  Downloading h11-0.14.0-py3-none-any.whl.metadata (8.2 kB)\n",
            "Requirement already satisfied: annotated-types>=0.4.0 in /usr/local/lib/python3.10/dist-packages (from pydantic<3,>=1.9.0->openai) (0.7.0)\n",
            "Requirement already satisfied: pydantic-core==2.20.1 in /usr/local/lib/python3.10/dist-packages (from pydantic<3,>=1.9.0->openai) (2.20.1)\n",
            "Downloading openai-1.44.1-py3-none-any.whl (373 kB)\n",
            "\u001b[2K   \u001b[90m━━━━━━━━━━━━━━━━━━━━━━━━━━━━━━━━━━━━━━━━\u001b[0m \u001b[32m373.5/373.5 kB\u001b[0m \u001b[31m6.7 MB/s\u001b[0m eta \u001b[36m0:00:00\u001b[0m\n",
            "\u001b[?25hDownloading httpx-0.27.2-py3-none-any.whl (76 kB)\n",
            "\u001b[2K   \u001b[90m━━━━━━━━━━━━━━━━━━━━━━━━━━━━━━━━━━━━━━━━\u001b[0m \u001b[32m76.4/76.4 kB\u001b[0m \u001b[31m5.6 MB/s\u001b[0m eta \u001b[36m0:00:00\u001b[0m\n",
            "\u001b[?25hDownloading httpcore-1.0.5-py3-none-any.whl (77 kB)\n",
            "\u001b[2K   \u001b[90m━━━━━━━━━━━━━━━━━━━━━━━━━━━━━━━━━━━━━━━━\u001b[0m \u001b[32m77.9/77.9 kB\u001b[0m \u001b[31m5.3 MB/s\u001b[0m eta \u001b[36m0:00:00\u001b[0m\n",
            "\u001b[?25hDownloading jiter-0.5.0-cp310-cp310-manylinux_2_17_x86_64.manylinux2014_x86_64.whl (318 kB)\n",
            "\u001b[2K   \u001b[90m━━━━━━━━━━━━━━━━━━━━━━━━━━━━━━━━━━━━━━━━\u001b[0m \u001b[32m318.9/318.9 kB\u001b[0m \u001b[31m19.7 MB/s\u001b[0m eta \u001b[36m0:00:00\u001b[0m\n",
            "\u001b[?25hDownloading h11-0.14.0-py3-none-any.whl (58 kB)\n",
            "\u001b[2K   \u001b[90m━━━━━━━━━━━━━━━━━━━━━━━━━━━━━━━━━━━━━━━━\u001b[0m \u001b[32m58.3/58.3 kB\u001b[0m \u001b[31m3.5 MB/s\u001b[0m eta \u001b[36m0:00:00\u001b[0m\n",
            "\u001b[?25hInstalling collected packages: jiter, h11, httpcore, httpx, openai\n",
            "Successfully installed h11-0.14.0 httpcore-1.0.5 httpx-0.27.2 jiter-0.5.0 openai-1.44.1\n"
          ]
        }
      ]
    },
    {
      "cell_type": "code",
      "source": [
        "import os\n",
        "from google.colab import userdata\n",
        "\n",
        "os.environ['OPENAI_API_KEY']=userdata.get('openai_apikey')"
      ],
      "metadata": {
        "id": "zdFOjKXLFj0z"
      },
      "execution_count": 2,
      "outputs": []
    },
    {
      "cell_type": "code",
      "source": [
        "from openai import OpenAI\n",
        "\n",
        "client = OpenAI()"
      ],
      "metadata": {
        "id": "q_Axunp8gstn"
      },
      "execution_count": 3,
      "outputs": []
    },
    {
      "cell_type": "code",
      "source": [
        "def body_mass_index(height,  weight):\n",
        "  \"calculate the body mass index\"\n",
        "  b_m_i=weight/(height*height)\n",
        "\n",
        "  return f\"The body mass index is about {b_m_i:.2f}\"\n",
        "\n",
        "# First, we define our function to calculate the body mass index."
      ],
      "metadata": {
        "id": "PFQgD_qDlJcw"
      },
      "execution_count": 4,
      "outputs": []
    },
    {
      "cell_type": "code",
      "source": [
        "body_mass_index_func = {\n",
        "    \"name\": \"body_mass_index\",\n",
        "    \"description\": \"Calculates the body mass index.\",\n",
        "    \"parameters\": {\n",
        "        \"type\": \"object\",\n",
        "        \"properties\": {\n",
        "            \"height\": {\n",
        "                \"type\": \"number\",\n",
        "                \"description\": \"person's height in meters\"\n",
        "            },\n",
        "            \"weight\": {\n",
        "                \"type\": \"number\",\n",
        "                \"description\": \"person's weight in kilograms\"\n",
        "            }\n",
        "\n",
        "        },\n",
        "        \"required\": [\"height\",  \"weight\"]\n",
        "    }\n",
        "}\n",
        "\n",
        "# Fonksiyonun adını, açıklamasını (kullanım amacını), fonksiyon parametrelerini ve türlerini(type) yukarıda gösterildiği gibi tanımlıyoruz. Burada\n",
        "# en önemli kısım, yapılan açıklamalardır(description). Çünkü model, bir fonksiyonu çağırıp çağırmama kararını bu fonksiyon açıklamalarına dayalı olarak\n",
        "# verir. Ayrıca, parametre açıklamalarına dayalı olarak model, metinden ilgili parametreleri seçebilir.\n",
        "\n",
        "# Modelle sorduğunuz soru, fonksiyonun açıklamasına semantik(anlamsal) olarak çok yakınsa, model bu fonksiyonu çağıracaktır. Ancak, fonksiyon açıklaması\n",
        "# kötü yapılmış veya eksikse, model fonksiyonu çağırmayacaktır.\n",
        "\n",
        "# Model, fonksiyonu çağırdıktan sonra, doğru parametreleri metinden seçmek için iyi tanımlanmış parametre açıklamalarına sahip olmak önemlidir.\n",
        "# Eğer parametre açıklamaları iyi yapılmamışsa veya eksikse, model textden doğru parametreleri seçemez."
      ],
      "metadata": {
        "id": "mBz32oUBlJkW"
      },
      "execution_count": 5,
      "outputs": []
    },
    {
      "cell_type": "code",
      "source": [
        "type(body_mass_index_func)"
      ],
      "metadata": {
        "colab": {
          "base_uri": "https://localhost:8080/"
        },
        "id": "As0YG5EtJV6i",
        "outputId": "f3e0023b-18fb-400a-bd29-c95436184d9e"
      },
      "execution_count": 6,
      "outputs": [
        {
          "output_type": "execute_result",
          "data": {
            "text/plain": [
              "dict"
            ]
          },
          "metadata": {},
          "execution_count": 6
        }
      ]
    },
    {
      "cell_type": "code",
      "source": [
        "prompt = \"What is the body mass index of a person who is 1800 mm tall and weight 80000 grams?\"\n",
        "\n",
        "res = client.chat.completions.create(\n",
        "    model='gpt-3.5-turbo',\n",
        "    messages=[{\"role\": \"user\", \"content\": prompt}],\n",
        "    functions=[body_mass_index_func],\n",
        "    function_call=\"auto\" # \"none\"\n",
        ")\n",
        "res\n",
        "\n",
        "# 'functions' parametresini 'body_mass_index_func' olarak ayarlayın.\n",
        "\n",
        "# 'function_call' parametresini 'auto' olarak ayarlayın."
      ],
      "metadata": {
        "colab": {
          "base_uri": "https://localhost:8080/"
        },
        "id": "gT4bpFGBlJqV",
        "outputId": "f08d52ca-4c6f-4db3-bbd1-af1e2c0009df"
      },
      "execution_count": 7,
      "outputs": [
        {
          "output_type": "execute_result",
          "data": {
            "text/plain": [
              "ChatCompletion(id='chatcmpl-A60CfGANKXTBhh3U1FFdRDXDBkMnK', choices=[Choice(finish_reason='function_call', index=0, logprobs=None, message=ChatCompletionMessage(content=None, refusal=None, role='assistant', function_call=FunctionCall(arguments='{\"height\":1.8,\"weight\":80}', name='body_mass_index'), tool_calls=None))], created=1725994113, model='gpt-3.5-turbo-0125', object='chat.completion', service_tier=None, system_fingerprint=None, usage=CompletionUsage(completion_tokens=21, prompt_tokens=87, total_tokens=108))"
            ]
          },
          "metadata": {},
          "execution_count": 7
        }
      ]
    },
    {
      "cell_type": "code",
      "source": [
        "res.choices[0].message.function_call.arguments\n",
        "# Prompt metninden seçilen parametreleri çekiyoruz.\n",
        "\n",
        "# Gördüğünüz gibi, çıktımız bir JSON formatındadır (string).\n",
        "# Python'da, JSON formatındaki veriyi doğrudan kullanamayız. Bu nedenle, json.loads() fonksiyonunu kullanarak veriyi dictionary formatına çevirerek\n",
        "# Python'da JSON formatındaki veriyi kullanabiliriz.\n",
        "# Veri dictionary formatına çevrildikten sonra, kolayca boy ve kilo bilgilerini çekebiliriz."
      ],
      "metadata": {
        "colab": {
          "base_uri": "https://localhost:8080/",
          "height": 35
        },
        "id": "WGygIB04B-IS",
        "outputId": "a011c9dc-6ea0-476b-e32c-bacfb81ce6db"
      },
      "execution_count": 8,
      "outputs": [
        {
          "output_type": "execute_result",
          "data": {
            "text/plain": [
              "'{\"height\":1.8,\"weight\":80}'"
            ],
            "application/vnd.google.colaboratory.intrinsic+json": {
              "type": "string"
            }
          },
          "metadata": {},
          "execution_count": 8
        }
      ]
    },
    {
      "cell_type": "code",
      "source": [
        "import json\n",
        "\n",
        "name = res.choices[0].message.function_call.name\n",
        "arguments = json.loads(res.choices[0].message.function_call.arguments) # Bir JSON dizesini bir dictionary çevirmek için json.loads() fonksiyonunu kullanın\n",
        "                                                                       # Bu fonksiyon, JSON string'i bir dictionarye çevirir.\n",
        "print(name)\n",
        "print(arguments)"
      ],
      "metadata": {
        "colab": {
          "base_uri": "https://localhost:8080/"
        },
        "id": "6-1Hb8HdlJwG",
        "outputId": "d414d0d3-e6b3-4730-ca65-4a8bf1e9afb6"
      },
      "execution_count": 9,
      "outputs": [
        {
          "output_type": "stream",
          "name": "stdout",
          "text": [
            "body_mass_index\n",
            "{'height': 1.8, 'weight': 80}\n"
          ]
        }
      ]
    },
    {
      "cell_type": "code",
      "source": [
        "print(arguments[\"height\"])\n",
        "print(arguments[\"weight\"])\n",
        "\n",
        "# boy ve kilo bilgilerini kolayca çekebildik"
      ],
      "metadata": {
        "colab": {
          "base_uri": "https://localhost:8080/"
        },
        "id": "OcvW2ZmJqASl",
        "outputId": "58fef305-d46f-45d9-9087-d6a259bb9077"
      },
      "execution_count": 10,
      "outputs": [
        {
          "output_type": "stream",
          "name": "stdout",
          "text": [
            "1.8\n",
            "80\n"
          ]
        }
      ]
    },
    {
      "cell_type": "code",
      "source": [
        "body_mass_index(arguments[\"height\"],  arguments[\"weight\"])\n",
        "\n",
        "# tanımladığımız fonksiyon içine parametreleri yazınca istediğim outputu döndürüyor."
      ],
      "metadata": {
        "colab": {
          "base_uri": "https://localhost:8080/",
          "height": 35
        },
        "id": "2KoVaY7rqk3c",
        "outputId": "a7c5c2c2-cd47-490a-faee-ddf820cd962d"
      },
      "execution_count": 11,
      "outputs": [
        {
          "output_type": "execute_result",
          "data": {
            "text/plain": [
              "'The body mass index is about 24.69'"
            ],
            "application/vnd.google.colaboratory.intrinsic+json": {
              "type": "string"
            }
          },
          "metadata": {},
          "execution_count": 11
        }
      ]
    },
    {
      "cell_type": "code",
      "source": [
        "def run_conversation(prompt):\n",
        "\n",
        "    response = client.chat.completions.create(model='gpt-3.5-turbo',\n",
        "                                              messages=[{\"role\": \"user\", \"content\": prompt}],\n",
        "                                              functions=[body_mass_index_func],\n",
        "                                              function_call=\"auto\")\n",
        "\n",
        "\n",
        "    # Step 1, modelin bir fonksiyon çağırmak(function_calling) isteyip istemediğini kontrol edin\n",
        "    if  response.choices[0].finish_reason == \"function_call\":\n",
        "        # json string'i dictionary'e çevirin\n",
        "        arguments = json.loads(response.choices[0].message.function_call.arguments)\n",
        "\n",
        "        # Step 2, fonksiyonu çağrın ve bir değişkene atayın\n",
        "        function_response = body_mass_index(arguments[\"height\"],\n",
        "                                            arguments[\"weight\"])\n",
        "\n",
        "        return function_response # fonksiyon sonucunu döndürün\n",
        "    return response.choices[0].message.content # eğer fonksiyon çağrılmıyorsa. Chatgpt'nin kendi cevabını döndür.\n",
        "\n",
        "\n",
        "# run_conversation fonksiyonuna verdiğimiz textden sonra model \"finish_reason\" olarak \"function_call\" döndürüyorsa,\n",
        "# cevaplarını body_mass_index fonksiyonu üzerinden verecektir. Aksi halde model cevaplarını kendi yöntemiyle verecektir."
      ],
      "metadata": {
        "id": "B0jvDck_qAbl"
      },
      "execution_count": 12,
      "outputs": []
    },
    {
      "cell_type": "code",
      "source": [
        "run_conversation(\"What is the body mass index of a person who is 1800 mm tall and weight 80000 grams?\")"
      ],
      "metadata": {
        "colab": {
          "base_uri": "https://localhost:8080/",
          "height": 35
        },
        "id": "V4hKu4BUqAjD",
        "outputId": "f0c7e6d8-2637-4924-bb45-9ef53511cb31"
      },
      "execution_count": 13,
      "outputs": [
        {
          "output_type": "execute_result",
          "data": {
            "text/plain": [
              "'The body mass index is about 24.69'"
            ],
            "application/vnd.google.colaboratory.intrinsic+json": {
              "type": "string"
            }
          },
          "metadata": {},
          "execution_count": 13
        }
      ]
    },
    {
      "cell_type": "code",
      "source": [
        "run_conversation(\"What is the Capital of Spain?\")"
      ],
      "metadata": {
        "id": "vbGo6reupqcO",
        "colab": {
          "base_uri": "https://localhost:8080/",
          "height": 35
        },
        "outputId": "ffc6358d-0de6-43dd-97fb-83f153aec2a2"
      },
      "execution_count": 14,
      "outputs": [
        {
          "output_type": "execute_result",
          "data": {
            "text/plain": [
              "'The capital of Spain is Madrid.'"
            ],
            "application/vnd.google.colaboratory.intrinsic+json": {
              "type": "string"
            }
          },
          "metadata": {},
          "execution_count": 14
        }
      ]
    }
  ]
}